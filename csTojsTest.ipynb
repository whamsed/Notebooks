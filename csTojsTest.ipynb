{
 "cells": [
  {
   "cell_type": "code",
   "execution_count": 1,
   "metadata": {},
   "source": [
    "#r \"nuget:Microsoft.Data.Analysis,0.2.0\""
   ],
   "outputs": []
  },
  {
   "cell_type": "code",
   "execution_count": 1,
   "metadata": {},
   "source": [
    "using Microsoft.Data.Analysis;\r\n",
    "\r\n",
    "var csv = DataFrame.LoadCsv(\"./MOCK_DATA.csv\", ',', true);\r\n",
    "var data = new List<Object>();\r\n",
    "\r\n",
    "foreach(var row in csv.Rows)\r\n",
    "{\r\n",
    "    data.Add(\r\n",
    "        new {\r\n",
    "            id = row[csv.Columns.IndexOf(\"id\")],\r\n",
    "            firstname = row[csv.Columns.IndexOf(\"first_name\")],\r\n",
    "            lastname = row[csv.Columns.IndexOf(\"last_name\")],\r\n",
    "            email = row[csv.Columns.IndexOf(\"email\")],\r\n",
    "            gender = row[csv.Columns.IndexOf(\"gender\")],\r\n",
    "            ipAddress = row[csv.Columns.IndexOf(\"ip_address\")],\r\n",
    "            latitude = row[csv.Columns.IndexOf(\"lat\")],\r\n",
    "            longditude = row[csv.Columns.IndexOf(\"long\")],\r\n",
    "            imageUrl = row[csv.Columns.IndexOf(\"imageUrl\")]\r\n",
    "        }\r\n",
    "    );\r\n",
    "}\r\n",
    "\r\n",
    "data"
   ],
   "outputs": []
  },
  {
   "cell_type": "code",
   "execution_count": 1,
   "metadata": {},
   "source": [
    "#!javascript\r\n",
    "notebookScope.plot = function (plotTarget) {\r\n",
    "  let loadPlotly = getJsLoader({\r\n",
    "    context: \"Users\",\r\n",
    "    paths: {\r\n",
    "      plotly: \"https://cdn.plot.ly/plotly-latest.min\",\r\n",
    "    },\r\n",
    "  });\r\n",
    "\r\n",
    "  loadPlotly([\"plotly\"], (Plotly) => {\r\n",
    "    if (typeof document.getElementById(plotTarget) !== \"undefined\") {\r\n",
    "      interactive.csharp.getVariable(\"data\").then((data) => {\r\n",
    "        var users = {\r\n",
    "          name: \"Users\",\r\n",
    "          type: \"scattergeo\",\r\n",
    "          mode: \"markers\",\r\n",
    "          geo: \"geo\",\r\n",
    "          lat: data.map((d) => d.latitude),\r\n",
    "          lon: data.map((d) => d.longditude),\r\n",
    "          text: data.map((d) => [d.firstname, d.lastname].join(\" \")),\r\n",
    "          marker: {\r\n",
    "            symbol: \"square\",\r\n",
    "            color: data.map((d) => d.gender === \"Female\"? \"#D433FF\" : \"1494C8\")\r\n",
    "          },\r\n",
    "        };\r\n",
    "\r\n",
    "        var layout = {\r\n",
    "          title: \"Users\",\r\n",
    "          geo: {\r\n",
    "            scope: \"world\",\r\n",
    "            showland: true,\r\n",
    "            showcountries: true,\r\n",
    "            bgcolor: \"rgb(90,90,90)\",\r\n",
    "            landcolor: \"rgb(250,250,250)\",\r\n",
    "          },\r\n",
    "        };\r\n",
    "        if (typeof document.getElementById(plotTarget) !== \"undefined\") {\r\n",
    "          Plotly.newPlot(plotTarget, [users], layout);\r\n",
    "        }\r\n",
    "      });\r\n",
    "    }\r\n",
    "  });\r\n",
    "};"
   ],
   "outputs": []
  },
  {
   "cell_type": "code",
   "execution_count": 1,
   "metadata": {},
   "source": [
    "#!html\r\n",
    "<div id=\"plotlyChart\"></div>\r\n",
    "\r\n",
    "#!js\r\n",
    "notebookScope.plot(\"plotlyChart\");"
   ],
   "outputs": []
  }
 ],
 "metadata": {
  "kernelspec": {
   "display_name": ".NET (C#)",
   "language": "C#",
   "name": ".net-csharp"
  },
  "language_info": {
   "file_extension": ".cs",
   "mimetype": "text/x-csharp",
   "name": "C#",
   "pygments_lexer": "csharp",
   "version": "8.0"
  }
 },
 "nbformat": 4,
 "nbformat_minor": 4
}